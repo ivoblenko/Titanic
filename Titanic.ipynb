{
  "nbformat": 4,
  "nbformat_minor": 0,
  "metadata": {
    "colab": {
      "name": "Titanic.ipynb",
      "provenance": [],
      "collapsed_sections": []
    },
    "kernelspec": {
      "name": "python3",
      "display_name": "Python 3"
    },
    "language_info": {
      "name": "python"
    }
  },
  "cells": [
    {
      "cell_type": "markdown",
      "metadata": {
        "id": "FEA1gqrlU1TO"
      },
      "source": [
        "\n",
        "\n",
        "Модель, прогнозирующая выживет ли пассажир Титаника.\n",
        "\n",
        "Данные взяты с https://www.kaggle.com/c/titanic/data?select=train.csv\n"
      ]
    },
    {
      "cell_type": "code",
      "metadata": {
        "id": "_b5fnPbLUwLz"
      },
      "source": [
        "from matplotlib import pyplot as plt\n",
        "import pandas as pd\n",
        "import seaborn as sns\n",
        "import numpy as np\n",
        "from sklearn.preprocessing import StandardScaler\n",
        "from sklearn.model_selection import train_test_split\n",
        "from sklearn.linear_model import LogisticRegression\n",
        "from sklearn.metrics import accuracy_score, precision_score,\\\n",
        "recall_score, f1_score, r2_score, roc_auc_score, roc_curve, silhouette_score\n",
        "from scipy.stats import f\n",
        "import scipy.stats as stats\n",
        "import statsmodels.api as sm\n",
        "from statsmodels.discrete.discrete_model import Probit"
      ],
      "execution_count": null,
      "outputs": []
    },
    {
      "cell_type": "markdown",
      "metadata": {
        "id": "0BzrAaC5Uzho"
      },
      "source": [
        "Читаем данные из csv"
      ]
    },
    {
      "cell_type": "code",
      "metadata": {
        "colab": {
          "base_uri": "https://localhost:8080/",
          "height": 204
        },
        "id": "XsG20k16YRow",
        "outputId": "e1acceec-0d90-4af6-92c2-e47951f83191"
      },
      "source": [
        "train_data = pd.read_csv(\"train.csv\")\n",
        "test_data = pd.read_csv('test.csv')\n",
        "train_data.head()"
      ],
      "execution_count": null,
      "outputs": [
        {
          "output_type": "execute_result",
          "data": {
            "text/html": [
              "<div>\n",
              "<style scoped>\n",
              "    .dataframe tbody tr th:only-of-type {\n",
              "        vertical-align: middle;\n",
              "    }\n",
              "\n",
              "    .dataframe tbody tr th {\n",
              "        vertical-align: top;\n",
              "    }\n",
              "\n",
              "    .dataframe thead th {\n",
              "        text-align: right;\n",
              "    }\n",
              "</style>\n",
              "<table border=\"1\" class=\"dataframe\">\n",
              "  <thead>\n",
              "    <tr style=\"text-align: right;\">\n",
              "      <th></th>\n",
              "      <th>PassengerId</th>\n",
              "      <th>Survived</th>\n",
              "      <th>Pclass</th>\n",
              "      <th>Name</th>\n",
              "      <th>Sex</th>\n",
              "      <th>Age</th>\n",
              "      <th>SibSp</th>\n",
              "      <th>Parch</th>\n",
              "      <th>Ticket</th>\n",
              "      <th>Fare</th>\n",
              "      <th>Cabin</th>\n",
              "      <th>Embarked</th>\n",
              "    </tr>\n",
              "  </thead>\n",
              "  <tbody>\n",
              "    <tr>\n",
              "      <th>0</th>\n",
              "      <td>1</td>\n",
              "      <td>0</td>\n",
              "      <td>3</td>\n",
              "      <td>Braund, Mr. Owen Harris</td>\n",
              "      <td>male</td>\n",
              "      <td>22.0</td>\n",
              "      <td>1</td>\n",
              "      <td>0</td>\n",
              "      <td>A/5 21171</td>\n",
              "      <td>7.2500</td>\n",
              "      <td>NaN</td>\n",
              "      <td>S</td>\n",
              "    </tr>\n",
              "    <tr>\n",
              "      <th>1</th>\n",
              "      <td>2</td>\n",
              "      <td>1</td>\n",
              "      <td>1</td>\n",
              "      <td>Cumings, Mrs. John Bradley (Florence Briggs Th...</td>\n",
              "      <td>female</td>\n",
              "      <td>38.0</td>\n",
              "      <td>1</td>\n",
              "      <td>0</td>\n",
              "      <td>PC 17599</td>\n",
              "      <td>71.2833</td>\n",
              "      <td>C85</td>\n",
              "      <td>C</td>\n",
              "    </tr>\n",
              "    <tr>\n",
              "      <th>2</th>\n",
              "      <td>3</td>\n",
              "      <td>1</td>\n",
              "      <td>3</td>\n",
              "      <td>Heikkinen, Miss. Laina</td>\n",
              "      <td>female</td>\n",
              "      <td>26.0</td>\n",
              "      <td>0</td>\n",
              "      <td>0</td>\n",
              "      <td>STON/O2. 3101282</td>\n",
              "      <td>7.9250</td>\n",
              "      <td>NaN</td>\n",
              "      <td>S</td>\n",
              "    </tr>\n",
              "    <tr>\n",
              "      <th>3</th>\n",
              "      <td>4</td>\n",
              "      <td>1</td>\n",
              "      <td>1</td>\n",
              "      <td>Futrelle, Mrs. Jacques Heath (Lily May Peel)</td>\n",
              "      <td>female</td>\n",
              "      <td>35.0</td>\n",
              "      <td>1</td>\n",
              "      <td>0</td>\n",
              "      <td>113803</td>\n",
              "      <td>53.1000</td>\n",
              "      <td>C123</td>\n",
              "      <td>S</td>\n",
              "    </tr>\n",
              "    <tr>\n",
              "      <th>4</th>\n",
              "      <td>5</td>\n",
              "      <td>0</td>\n",
              "      <td>3</td>\n",
              "      <td>Allen, Mr. William Henry</td>\n",
              "      <td>male</td>\n",
              "      <td>35.0</td>\n",
              "      <td>0</td>\n",
              "      <td>0</td>\n",
              "      <td>373450</td>\n",
              "      <td>8.0500</td>\n",
              "      <td>NaN</td>\n",
              "      <td>S</td>\n",
              "    </tr>\n",
              "  </tbody>\n",
              "</table>\n",
              "</div>"
            ],
            "text/plain": [
              "   PassengerId  Survived  Pclass  ...     Fare Cabin  Embarked\n",
              "0            1         0       3  ...   7.2500   NaN         S\n",
              "1            2         1       1  ...  71.2833   C85         C\n",
              "2            3         1       3  ...   7.9250   NaN         S\n",
              "3            4         1       1  ...  53.1000  C123         S\n",
              "4            5         0       3  ...   8.0500   NaN         S\n",
              "\n",
              "[5 rows x 12 columns]"
            ]
          },
          "metadata": {
            "tags": []
          },
          "execution_count": 1097
        }
      ]
    },
    {
      "cell_type": "markdown",
      "metadata": {
        "id": "Oem0FWKIY2RK"
      },
      "source": [
        "Описание столбцов:\n",
        "\n",
        "\n",
        "*   Ид пассажира\n",
        "*   Индикатор выжил он или нет\n",
        "\n",
        "*   Класс пассажира\n",
        "\n",
        "*   ФИО\n",
        "*   Пол\n",
        "\n",
        "*   Возраст\n",
        "*   Количество родственников на борту\n",
        "\n",
        "*   Количество родителей/детей на борту\n",
        "*   Билет\n",
        "* Стоимость билета\n",
        "\n",
        "*   Кабина\n",
        "*   Порт посадки\n",
        "\n",
        "\n",
        "\n",
        "\n",
        "\n",
        "\n",
        "\n",
        "\n",
        "\n",
        "\n"
      ]
    },
    {
      "cell_type": "code",
      "metadata": {
        "colab": {
          "base_uri": "https://localhost:8080/"
        },
        "id": "k9VcV5V7t4nB",
        "outputId": "d6ba8670-7086-418e-fbbe-bb54ccde1809"
      },
      "source": [
        "train_data.info()\n",
        "print('\\n')\n",
        "test_data.info()"
      ],
      "execution_count": null,
      "outputs": [
        {
          "output_type": "stream",
          "text": [
            "<class 'pandas.core.frame.DataFrame'>\n",
            "RangeIndex: 891 entries, 0 to 890\n",
            "Data columns (total 12 columns):\n",
            " #   Column       Non-Null Count  Dtype  \n",
            "---  ------       --------------  -----  \n",
            " 0   PassengerId  891 non-null    int64  \n",
            " 1   Survived     891 non-null    int64  \n",
            " 2   Pclass       891 non-null    int64  \n",
            " 3   Name         891 non-null    object \n",
            " 4   Sex          891 non-null    object \n",
            " 5   Age          714 non-null    float64\n",
            " 6   SibSp        891 non-null    int64  \n",
            " 7   Parch        891 non-null    int64  \n",
            " 8   Ticket       891 non-null    object \n",
            " 9   Fare         891 non-null    float64\n",
            " 10  Cabin        204 non-null    object \n",
            " 11  Embarked     889 non-null    object \n",
            "dtypes: float64(2), int64(5), object(5)\n",
            "memory usage: 83.7+ KB\n",
            "\n",
            "\n",
            "<class 'pandas.core.frame.DataFrame'>\n",
            "RangeIndex: 418 entries, 0 to 417\n",
            "Data columns (total 11 columns):\n",
            " #   Column       Non-Null Count  Dtype  \n",
            "---  ------       --------------  -----  \n",
            " 0   PassengerId  418 non-null    int64  \n",
            " 1   Pclass       418 non-null    int64  \n",
            " 2   Name         418 non-null    object \n",
            " 3   Sex          418 non-null    object \n",
            " 4   Age          332 non-null    float64\n",
            " 5   SibSp        418 non-null    int64  \n",
            " 6   Parch        418 non-null    int64  \n",
            " 7   Ticket       418 non-null    object \n",
            " 8   Fare         417 non-null    float64\n",
            " 9   Cabin        91 non-null     object \n",
            " 10  Embarked     418 non-null    object \n",
            "dtypes: float64(2), int64(4), object(5)\n",
            "memory usage: 36.0+ KB\n"
          ],
          "name": "stdout"
        }
      ]
    },
    {
      "cell_type": "markdown",
      "metadata": {
        "id": "gXe6Vxs2vm08"
      },
      "source": [
        "Очистим от пустых значений"
      ]
    },
    {
      "cell_type": "code",
      "metadata": {
        "colab": {
          "base_uri": "https://localhost:8080/"
        },
        "id": "TamSLKZsyJ0E",
        "outputId": "09c2a2f5-3c86-441c-a5f0-0d7e910292fa"
      },
      "source": [
        "train_data.isna().sum()"
      ],
      "execution_count": null,
      "outputs": [
        {
          "output_type": "execute_result",
          "data": {
            "text/plain": [
              "PassengerId      0\n",
              "Survived         0\n",
              "Pclass           0\n",
              "Name             0\n",
              "Sex              0\n",
              "Age            177\n",
              "SibSp            0\n",
              "Parch            0\n",
              "Ticket           0\n",
              "Fare             0\n",
              "Cabin          687\n",
              "Embarked         2\n",
              "dtype: int64"
            ]
          },
          "metadata": {
            "tags": []
          },
          "execution_count": 1099
        }
      ]
    },
    {
      "cell_type": "code",
      "metadata": {
        "colab": {
          "base_uri": "https://localhost:8080/",
          "height": 349
        },
        "id": "1Vfgnp2BS31x",
        "outputId": "bc909351-5e26-4bb4-9c6f-7534ad903e6e"
      },
      "source": [
        "sns.heatmap(train_data.isnull(), cbar = False).set_title(\"Пропущенные значения обучающей выборки\")"
      ],
      "execution_count": null,
      "outputs": [
        {
          "output_type": "execute_result",
          "data": {
            "text/plain": [
              "Text(0.5, 1.0, 'Пропущенные значения обучающей выборки')"
            ]
          },
          "metadata": {
            "tags": []
          },
          "execution_count": 1100
        },
        {
          "output_type": "display_data",
          "data": {
            "image/png": "[encoded data removed]",
            "text/plain": [
              "<Figure size 432x288 with 1 Axes>"
            ]
          },
          "metadata": {
            "tags": [],
            "needs_background": "light"
          }
        }
      ]
    },
    {
      "cell_type": "code",
      "metadata": {
        "colab": {
          "base_uri": "https://localhost:8080/"
        },
        "id": "kK67G9N_N9Z6",
        "outputId": "0c01ba6f-cc02-4d3d-a448-472d07d24dd3"
      },
      "source": [
        "test_data.isna().sum()"
      ],
      "execution_count": null,
      "outputs": [
        {
          "output_type": "execute_result",
          "data": {
            "text/plain": [
              "PassengerId      0\n",
              "Pclass           0\n",
              "Name             0\n",
              "Sex              0\n",
              "Age             86\n",
              "SibSp            0\n",
              "Parch            0\n",
              "Ticket           0\n",
              "Fare             1\n",
              "Cabin          327\n",
              "Embarked         0\n",
              "dtype: int64"
            ]
          },
          "metadata": {
            "tags": []
          },
          "execution_count": 1101
        }
      ]
    },
    {
      "cell_type": "code",
      "metadata": {
        "colab": {
          "base_uri": "https://localhost:8080/",
          "height": 349
        },
        "id": "GppaB14jS8-l",
        "outputId": "70066ea1-5b15-44d6-b4fa-5d0c6ac91f1f"
      },
      "source": [
        "sns.heatmap(test_data.isnull(), cbar=False).set_title('Пропущенные знчения тестовой выборки')"
      ],
      "execution_count": null,
      "outputs": [
        {
          "output_type": "execute_result",
          "data": {
            "text/plain": [
              "Text(0.5, 1.0, 'Пропущенные знчения тестовой выборки')"
            ]
          },
          "metadata": {
            "tags": []
          },
          "execution_count": 1102
        },
        {
          "output_type": "display_data",
          "data": {
            "image/png": "[encoded data removed]",
            "text/plain": [
              "<Figure size 432x288 with 1 Axes>"
            ]
          },
          "metadata": {
            "tags": [],
            "needs_background": "light"
          }
        }
      ]
    },
    {
      "cell_type": "code",
      "metadata": {
        "colab": {
          "base_uri": "https://localhost:8080/"
        },
        "id": "Y7eyqqEsSNOx",
        "outputId": "81a2dff1-d100-4de6-d04f-c4c4d40ed90f"
      },
      "source": [
        "train_data.nunique()"
      ],
      "execution_count": null,
      "outputs": [
        {
          "output_type": "execute_result",
          "data": {
            "text/plain": [
              "PassengerId    891\n",
              "Survived         2\n",
              "Pclass           3\n",
              "Name           891\n",
              "Sex              2\n",
              "Age             88\n",
              "SibSp            7\n",
              "Parch            7\n",
              "Ticket         681\n",
              "Fare           248\n",
              "Cabin          147\n",
              "Embarked         3\n",
              "dtype: int64"
            ]
          },
          "metadata": {
            "tags": []
          },
          "execution_count": 1103
        }
      ]
    },
    {
      "cell_type": "code",
      "metadata": {
        "colab": {
          "base_uri": "https://localhost:8080/"
        },
        "id": "QXLqkhFFTB6G",
        "outputId": "3023b940-9702-445f-8c09-48558049731e"
      },
      "source": [
        "train_data['Survived'].value_counts()"
      ],
      "execution_count": null,
      "outputs": [
        {
          "output_type": "execute_result",
          "data": {
            "text/plain": [
              "0    549\n",
              "1    342\n",
              "Name: Survived, dtype: int64"
            ]
          },
          "metadata": {
            "tags": []
          },
          "execution_count": 1104
        }
      ]
    },
    {
      "cell_type": "code",
      "metadata": {
        "colab": {
          "base_uri": "https://localhost:8080/",
          "height": 37
        },
        "id": "jBB3jLGITTfS",
        "outputId": "df745936-5833-4b0f-9132-71058b4163c7"
      },
      "source": [
        "str(round(train_data.Survived[train_data['Survived'] == 1].sum() / train_data.shape[0] * 100, 2)) + \"%\""
      ],
      "execution_count": null,
      "outputs": [
        {
          "output_type": "execute_result",
          "data": {
            "application/vnd.google.colaboratory.intrinsic+json": {
              "type": "string"
            },
            "text/plain": [
              "'38.38%'"
            ]
          },
          "metadata": {
            "tags": []
          },
          "execution_count": 1105
        }
      ]
    },
    {
      "cell_type": "code",
      "metadata": {
        "colab": {
          "base_uri": "https://localhost:8080/",
          "height": 281
        },
        "id": "2XLtSXtvUtEa",
        "outputId": "0b5eefe2-81ba-4734-c478-52b68210e9e4"
      },
      "source": [
        "sns.countplot(x='Survived', data=train_data)\n",
        "plt.xlabel('')\n",
        "plt.ylabel('Количество выживших')\n",
        "plt.title('Соотношение выживших и нет')\n",
        "plt.xticks([0,1], ('не выжили', 'выжили'))\n",
        "plt.show()"
      ],
      "execution_count": null,
      "outputs": [
        {
          "output_type": "display_data",
          "data": {
            "image/png": "[encoded data removed]",
            "text/plain": [
              "<Figure size 432x288 with 1 Axes>"
            ]
          },
          "metadata": {
            "tags": [],
            "needs_background": "light"
          }
        }
      ]
    },
    {
      "cell_type": "code",
      "metadata": {
        "colab": {
          "base_uri": "https://localhost:8080/",
          "height": 281
        },
        "id": "MNc5l9WXsqa1",
        "outputId": "aeb56627-a044-48f6-b3c0-40625d99cae0"
      },
      "source": [
        "sns.countplot(x='Pclass', hue='Survived', data=train_data)\n",
        "plt.title('Распределение выживших по классам')\n",
        "plt.xlabel('')\n",
        "plt.ylabel('Количество людей')\n",
        "plt.xticks(range(3), ('1 класс', \"2 класс\", \"3 класс\"))\n",
        "plt.show()"
      ],
      "execution_count": null,
      "outputs": [
        {
          "output_type": "display_data",
          "data": {
            "image/png": "[encoded data removed]",
            "text/plain": [
              "<Figure size 432x288 with 1 Axes>"
            ]
          },
          "metadata": {
            "tags": [],
            "needs_background": "light"
          }
        }
      ]
    },
    {
      "cell_type": "code",
      "metadata": {
        "colab": {
          "base_uri": "https://localhost:8080/",
          "height": 281
        },
        "id": "5Y7DB-Tst7_h",
        "outputId": "f2d4a016-1327-4903-fed5-ade0dfd0ee63"
      },
      "source": [
        "sns.countplot(x='Sex', hue='Survived', data = train_data)\n",
        "plt.title('Распределе пола от выживаемости')\n",
        "plt.xlabel('')\n",
        "plt.ylabel('Количество людей')\n",
        "plt.show()"
      ],
      "execution_count": null,
      "outputs": [
        {
          "output_type": "display_data",
          "data": {
            "image/png": "[encoded data removed]",
            "text/plain": [
              "<Figure size 432x288 with 1 Axes>"
            ]
          },
          "metadata": {
            "tags": [],
            "needs_background": "light"
          }
        }
      ]
    },
    {
      "cell_type": "markdown",
      "metadata": {
        "id": "r560owfevPZT"
      },
      "source": [
        "Объединим колонки семейных отношений в общую Family"
      ]
    },
    {
      "cell_type": "code",
      "metadata": {
        "id": "VG-xZHyevPQ2"
      },
      "source": [
        "train_data['Family'] = train_data['SibSp'] + train_data['Parch']\n",
        "train_data.drop(['SibSp', 'Parch'], axis=1, inplace=True)"
      ],
      "execution_count": null,
      "outputs": []
    },
    {
      "cell_type": "code",
      "metadata": {
        "colab": {
          "base_uri": "https://localhost:8080/",
          "height": 204
        },
        "id": "Y1CIph9Yvvfj",
        "outputId": "315b1f44-a63c-47dc-f5d1-17efe4de0113"
      },
      "source": [
        "train_data.head()"
      ],
      "execution_count": null,
      "outputs": [
        {
          "output_type": "execute_result",
          "data": {
            "text/html": [
              "<div>\n",
              "<style scoped>\n",
              "    .dataframe tbody tr th:only-of-type {\n",
              "        vertical-align: middle;\n",
              "    }\n",
              "\n",
              "    .dataframe tbody tr th {\n",
              "        vertical-align: top;\n",
              "    }\n",
              "\n",
              "    .dataframe thead th {\n",
              "        text-align: right;\n",
              "    }\n",
              "</style>\n",
              "<table border=\"1\" class=\"dataframe\">\n",
              "  <thead>\n",
              "    <tr style=\"text-align: right;\">\n",
              "      <th></th>\n",
              "      <th>PassengerId</th>\n",
              "      <th>Survived</th>\n",
              "      <th>Pclass</th>\n",
              "      <th>Name</th>\n",
              "      <th>Sex</th>\n",
              "      <th>Age</th>\n",
              "      <th>Ticket</th>\n",
              "      <th>Fare</th>\n",
              "      <th>Cabin</th>\n",
              "      <th>Embarked</th>\n",
              "      <th>Family</th>\n",
              "    </tr>\n",
              "  </thead>\n",
              "  <tbody>\n",
              "    <tr>\n",
              "      <th>0</th>\n",
              "      <td>1</td>\n",
              "      <td>0</td>\n",
              "      <td>3</td>\n",
              "      <td>Braund, Mr. Owen Harris</td>\n",
              "      <td>male</td>\n",
              "      <td>22.0</td>\n",
              "      <td>A/5 21171</td>\n",
              "      <td>7.2500</td>\n",
              "      <td>NaN</td>\n",
              "      <td>S</td>\n",
              "      <td>1</td>\n",
              "    </tr>\n",
              "    <tr>\n",
              "      <th>1</th>\n",
              "      <td>2</td>\n",
              "      <td>1</td>\n",
              "      <td>1</td>\n",
              "      <td>Cumings, Mrs. John Bradley (Florence Briggs Th...</td>\n",
              "      <td>female</td>\n",
              "      <td>38.0</td>\n",
              "      <td>PC 17599</td>\n",
              "      <td>71.2833</td>\n",
              "      <td>C85</td>\n",
              "      <td>C</td>\n",
              "      <td>1</td>\n",
              "    </tr>\n",
              "    <tr>\n",
              "      <th>2</th>\n",
              "      <td>3</td>\n",
              "      <td>1</td>\n",
              "      <td>3</td>\n",
              "      <td>Heikkinen, Miss. Laina</td>\n",
              "      <td>female</td>\n",
              "      <td>26.0</td>\n",
              "      <td>STON/O2. 3101282</td>\n",
              "      <td>7.9250</td>\n",
              "      <td>NaN</td>\n",
              "      <td>S</td>\n",
              "      <td>0</td>\n",
              "    </tr>\n",
              "    <tr>\n",
              "      <th>3</th>\n",
              "      <td>4</td>\n",
              "      <td>1</td>\n",
              "      <td>1</td>\n",
              "      <td>Futrelle, Mrs. Jacques Heath (Lily May Peel)</td>\n",
              "      <td>female</td>\n",
              "      <td>35.0</td>\n",
              "      <td>113803</td>\n",
              "      <td>53.1000</td>\n",
              "      <td>C123</td>\n",
              "      <td>S</td>\n",
              "      <td>1</td>\n",
              "    </tr>\n",
              "    <tr>\n",
              "      <th>4</th>\n",
              "      <td>5</td>\n",
              "      <td>0</td>\n",
              "      <td>3</td>\n",
              "      <td>Allen, Mr. William Henry</td>\n",
              "      <td>male</td>\n",
              "      <td>35.0</td>\n",
              "      <td>373450</td>\n",
              "      <td>8.0500</td>\n",
              "      <td>NaN</td>\n",
              "      <td>S</td>\n",
              "      <td>0</td>\n",
              "    </tr>\n",
              "  </tbody>\n",
              "</table>\n",
              "</div>"
            ],
            "text/plain": [
              "   PassengerId  Survived  Pclass  ... Cabin Embarked  Family\n",
              "0            1         0       3  ...   NaN        S       1\n",
              "1            2         1       1  ...   C85        C       1\n",
              "2            3         1       3  ...   NaN        S       0\n",
              "3            4         1       1  ...  C123        S       1\n",
              "4            5         0       3  ...   NaN        S       0\n",
              "\n",
              "[5 rows x 11 columns]"
            ]
          },
          "metadata": {
            "tags": []
          },
          "execution_count": 1110
        }
      ]
    },
    {
      "cell_type": "code",
      "metadata": {
        "colab": {
          "base_uri": "https://localhost:8080/",
          "height": 608
        },
        "id": "PbJDq0p7wGMa",
        "outputId": "d6e927f1-1ee9-4dfe-e4de-701c5d68d81e"
      },
      "source": [
        "plt.figure(figsize=(14, 10))\n",
        "sns.countplot(x='Family', hue='Survived', data=train_data)\n",
        "plt.title('Распределение выживших в зависимости от количества родственников на борту')\n",
        "plt.xlabel('')\n",
        "plt.ylabel('Количество людей')\n",
        "plt.show()"
      ],
      "execution_count": null,
      "outputs": [
        {
          "output_type": "display_data",
          "data": {
            "image/png": "[encoded data removed]",
            "text/plain": [
              "<Figure size 1008x720 with 1 Axes>"
            ]
          },
          "metadata": {
            "tags": [],
            "needs_background": "light"
          }
        }
      ]
    },
    {
      "cell_type": "code",
      "metadata": {
        "colab": {
          "base_uri": "https://localhost:8080/"
        },
        "id": "dLpMog50C9Yi",
        "outputId": "da6de920-5eac-4e18-fb72-a3eecb8535bf"
      },
      "source": [
        "train_data['Age'].max()"
      ],
      "execution_count": null,
      "outputs": [
        {
          "output_type": "execute_result",
          "data": {
            "text/plain": [
              "80.0"
            ]
          },
          "metadata": {
            "tags": []
          },
          "execution_count": 1112
        }
      ]
    },
    {
      "cell_type": "code",
      "metadata": {
        "colab": {
          "base_uri": "https://localhost:8080/",
          "height": 621
        },
        "id": "MtsDGg33E2Yb",
        "outputId": "879b018c-79a1-4de3-a208-627b15c46807"
      },
      "source": [
        "plt.figure(figsize=(14,10))\n",
        "plt.bar([i-0.2 for i in range (0,8)],\n",
        "        [train_data[(train_data['Age'].isin([i, (i+10)])) \n",
        "        & (train_data.Survived == 1)].Age.count() for i in range(0, 80, 10)],\n",
        "        width = 0.4, label='Выжившие')\n",
        "plt.bar([i+0.2 for i in range (0,8)],\n",
        "        [train_data[(train_data['Age'].isin([i, (i+10)])) \n",
        "        & (train_data.Survived == 0)].Age.count() for i in range(0, 80, 10)],\n",
        "        width = 0.4, label='Погибшие')\n",
        "plt.xticks(range(0,8),[\"[\"+str(i)+\"-\"+str(i+10)+\")\" for i in range(0, 80, 10)])\n",
        "plt.xlabel('Возраст пассажиров')\n",
        "plt.ylabel('Количество пассажирова')\n",
        "plt.title('Распределение выживших по возрасту')\n",
        "plt.legend()\n",
        "plt.show()"
      ],
      "execution_count": null,
      "outputs": [
        {
          "output_type": "display_data",
          "data": {
            "image/png": "[encoded data removed]",
            "text/plain": [
              "<Figure size 1008x720 with 1 Axes>"
            ]
          },
          "metadata": {
            "tags": [],
            "needs_background": "light"
          }
        }
      ]
    },
    {
      "cell_type": "code",
      "metadata": {
        "id": "pOPXXjynR0Ll"
      },
      "source": [
        "train_data.drop(['Ticket'], axis=1, inplace=True)"
      ],
      "execution_count": null,
      "outputs": []
    },
    {
      "cell_type": "code",
      "metadata": {
        "colab": {
          "base_uri": "https://localhost:8080/"
        },
        "id": "J10hNp1jSuqo",
        "outputId": "4748c21c-1105-4e48-8fa3-b5ae82801a0c"
      },
      "source": [
        "train_data.isna().sum()"
      ],
      "execution_count": null,
      "outputs": [
        {
          "output_type": "execute_result",
          "data": {
            "text/plain": [
              "PassengerId      0\n",
              "Survived         0\n",
              "Pclass           0\n",
              "Name             0\n",
              "Sex              0\n",
              "Age            177\n",
              "Fare             0\n",
              "Cabin          687\n",
              "Embarked         2\n",
              "Family           0\n",
              "dtype: int64"
            ]
          },
          "metadata": {
            "tags": []
          },
          "execution_count": 1115
        }
      ]
    },
    {
      "cell_type": "code",
      "metadata": {
        "colab": {
          "base_uri": "https://localhost:8080/"
        },
        "id": "FonFsx7-S2fp",
        "outputId": "f4a9ec58-4f9c-4cc2-ec7c-7b8a7c6525d7"
      },
      "source": [
        "train_data[train_data['Embarked'].isna()].head()\n",
        "train_data.Embarked.value_counts()"
      ],
      "execution_count": null,
      "outputs": [
        {
          "output_type": "execute_result",
          "data": {
            "text/plain": [
              "S    644\n",
              "C    168\n",
              "Q     77\n",
              "Name: Embarked, dtype: int64"
            ]
          },
          "metadata": {
            "tags": []
          },
          "execution_count": 1116
        }
      ]
    },
    {
      "cell_type": "code",
      "metadata": {
        "id": "vGnkC5_xVep4"
      },
      "source": [
        "train_data.loc[train_data['Embarked'].isna(), 'Embarked'] = 'S'\n",
        "train_data.Embarked.replace(['S', 'C', 'Q'], [0,1,2], inplace=True)"
      ],
      "execution_count": null,
      "outputs": []
    },
    {
      "cell_type": "code",
      "metadata": {
        "colab": {
          "base_uri": "https://localhost:8080/"
        },
        "id": "Dkxqb50vV-iM",
        "outputId": "92632832-2680-46a0-d2ec-d6e3a7cf27ef"
      },
      "source": [
        "train_data.Embarked.value_counts()"
      ],
      "execution_count": null,
      "outputs": [
        {
          "output_type": "execute_result",
          "data": {
            "text/plain": [
              "0    646\n",
              "1    168\n",
              "2     77\n",
              "Name: Embarked, dtype: int64"
            ]
          },
          "metadata": {
            "tags": []
          },
          "execution_count": 1118
        }
      ]
    },
    {
      "cell_type": "code",
      "metadata": {
        "id": "TPQWHzBFXM0O"
      },
      "source": [
        "firstClassAgeMedian = round(train_data.Age[train_data['Pclass'] == 1].median())\n",
        "secondClassAgeMedian = round(train_data.Age[train_data['Pclass'] == 2].median())\n",
        "thirdClassAgeMedian = round(train_data.Age[train_data['Pclass'] == 3].median())"
      ],
      "execution_count": null,
      "outputs": []
    },
    {
      "cell_type": "code",
      "metadata": {
        "id": "7D22obQlaVEq"
      },
      "source": [
        "train_data.loc[(train_data['Age'].isna()) & (train_data['Pclass'] == 1), 'Age'] = firstClassAgeMedian\n",
        "train_data.loc[(train_data['Age'].isna()) & (train_data['Pclass'] == 2), 'Age'] = secondClassAgeMedian\n",
        "train_data.loc[(train_data['Age'].isna()) & (train_data['Pclass'] == 3), 'Age'] = thirdClassAgeMedian"
      ],
      "execution_count": null,
      "outputs": []
    },
    {
      "cell_type": "code",
      "metadata": {
        "colab": {
          "base_uri": "https://localhost:8080/"
        },
        "id": "s2d6YCPKY2j-",
        "outputId": "01238f4b-be67-4abe-8c64-cda73dab46ba"
      },
      "source": [
        "train_data.isna().sum()"
      ],
      "execution_count": null,
      "outputs": [
        {
          "output_type": "execute_result",
          "data": {
            "text/plain": [
              "PassengerId      0\n",
              "Survived         0\n",
              "Pclass           0\n",
              "Name             0\n",
              "Sex              0\n",
              "Age              0\n",
              "Fare             0\n",
              "Cabin          687\n",
              "Embarked         0\n",
              "Family           0\n",
              "dtype: int64"
            ]
          },
          "metadata": {
            "tags": []
          },
          "execution_count": 1121
        }
      ]
    },
    {
      "cell_type": "code",
      "metadata": {
        "id": "E-vtUiMecK39"
      },
      "source": [
        "train_data['Deck'], train_data['CabinNumber'] = train_data['Cabin'].str[0], train_data['Cabin'].str[1:]"
      ],
      "execution_count": null,
      "outputs": []
    },
    {
      "cell_type": "code",
      "metadata": {
        "id": "hGdp2tUpdiJD"
      },
      "source": [
        "train_data.drop(['Cabin', 'Name'], axis=1, inplace=True)"
      ],
      "execution_count": null,
      "outputs": []
    },
    {
      "cell_type": "code",
      "metadata": {
        "id": "GSF7Uf6LoPM4"
      },
      "source": [
        "train_data.loc[train_data['Deck'].isna(), \"Deck\"] = 0\n",
        "train_data.loc[train_data['CabinNumber'].isna(), \"CabinNumber\"] = '0'\n",
        "train_data.loc[train_data.CabinNumber == ' G7', \"Deck\"] = \"G\"\n",
        "train_data.loc[train_data.CabinNumber == ' G6', \"Deck\"] = \"G\"\n",
        "train_data.loc[train_data.CabinNumber == ' E6', \"Deck\"] = \"E\""
      ],
      "execution_count": null,
      "outputs": []
    },
    {
      "cell_type": "code",
      "metadata": {
        "colab": {
          "base_uri": "https://localhost:8080/",
          "height": 204
        },
        "id": "qYQxV6epopv7",
        "outputId": "fffdb054-4688-496d-f871-f00fb744c082"
      },
      "source": [
        "train_data.head()"
      ],
      "execution_count": null,
      "outputs": [
        {
          "output_type": "execute_result",
          "data": {
            "text/html": [
              "<div>\n",
              "<style scoped>\n",
              "    .dataframe tbody tr th:only-of-type {\n",
              "        vertical-align: middle;\n",
              "    }\n",
              "\n",
              "    .dataframe tbody tr th {\n",
              "        vertical-align: top;\n",
              "    }\n",
              "\n",
              "    .dataframe thead th {\n",
              "        text-align: right;\n",
              "    }\n",
              "</style>\n",
              "<table border=\"1\" class=\"dataframe\">\n",
              "  <thead>\n",
              "    <tr style=\"text-align: right;\">\n",
              "      <th></th>\n",
              "      <th>PassengerId</th>\n",
              "      <th>Survived</th>\n",
              "      <th>Pclass</th>\n",
              "      <th>Sex</th>\n",
              "      <th>Age</th>\n",
              "      <th>Fare</th>\n",
              "      <th>Embarked</th>\n",
              "      <th>Family</th>\n",
              "      <th>Deck</th>\n",
              "      <th>CabinNumber</th>\n",
              "    </tr>\n",
              "  </thead>\n",
              "  <tbody>\n",
              "    <tr>\n",
              "      <th>0</th>\n",
              "      <td>1</td>\n",
              "      <td>0</td>\n",
              "      <td>3</td>\n",
              "      <td>male</td>\n",
              "      <td>22.0</td>\n",
              "      <td>7.2500</td>\n",
              "      <td>0</td>\n",
              "      <td>1</td>\n",
              "      <td>0</td>\n",
              "      <td>0</td>\n",
              "    </tr>\n",
              "    <tr>\n",
              "      <th>1</th>\n",
              "      <td>2</td>\n",
              "      <td>1</td>\n",
              "      <td>1</td>\n",
              "      <td>female</td>\n",
              "      <td>38.0</td>\n",
              "      <td>71.2833</td>\n",
              "      <td>1</td>\n",
              "      <td>1</td>\n",
              "      <td>C</td>\n",
              "      <td>85</td>\n",
              "    </tr>\n",
              "    <tr>\n",
              "      <th>2</th>\n",
              "      <td>3</td>\n",
              "      <td>1</td>\n",
              "      <td>3</td>\n",
              "      <td>female</td>\n",
              "      <td>26.0</td>\n",
              "      <td>7.9250</td>\n",
              "      <td>0</td>\n",
              "      <td>0</td>\n",
              "      <td>0</td>\n",
              "      <td>0</td>\n",
              "    </tr>\n",
              "    <tr>\n",
              "      <th>3</th>\n",
              "      <td>4</td>\n",
              "      <td>1</td>\n",
              "      <td>1</td>\n",
              "      <td>female</td>\n",
              "      <td>35.0</td>\n",
              "      <td>53.1000</td>\n",
              "      <td>0</td>\n",
              "      <td>1</td>\n",
              "      <td>C</td>\n",
              "      <td>123</td>\n",
              "    </tr>\n",
              "    <tr>\n",
              "      <th>4</th>\n",
              "      <td>5</td>\n",
              "      <td>0</td>\n",
              "      <td>3</td>\n",
              "      <td>male</td>\n",
              "      <td>35.0</td>\n",
              "      <td>8.0500</td>\n",
              "      <td>0</td>\n",
              "      <td>0</td>\n",
              "      <td>0</td>\n",
              "      <td>0</td>\n",
              "    </tr>\n",
              "  </tbody>\n",
              "</table>\n",
              "</div>"
            ],
            "text/plain": [
              "   PassengerId  Survived  Pclass     Sex  ...  Embarked  Family  Deck  CabinNumber\n",
              "0            1         0       3    male  ...         0       1     0            0\n",
              "1            2         1       1  female  ...         1       1     C           85\n",
              "2            3         1       3  female  ...         0       0     0            0\n",
              "3            4         1       1  female  ...         0       1     C          123\n",
              "4            5         0       3    male  ...         0       0     0            0\n",
              "\n",
              "[5 rows x 10 columns]"
            ]
          },
          "metadata": {
            "tags": []
          },
          "execution_count": 1125
        }
      ]
    },
    {
      "cell_type": "code",
      "metadata": {
        "id": "fBpXuYhupjJ_"
      },
      "source": [
        "train_data.Sex.replace(['male', 'female'], [0,1], inplace=True)"
      ],
      "execution_count": null,
      "outputs": []
    },
    {
      "cell_type": "code",
      "metadata": {
        "colab": {
          "base_uri": "https://localhost:8080/"
        },
        "id": "Hd_MIPrfpua6",
        "outputId": "791cbb4a-a655-44a4-af55-966fd5cb48a3"
      },
      "source": [
        "train_data.Deck.value_counts()"
      ],
      "execution_count": null,
      "outputs": [
        {
          "output_type": "execute_result",
          "data": {
            "text/plain": [
              "0    687\n",
              "C     59\n",
              "B     47\n",
              "D     33\n",
              "E     32\n",
              "A     15\n",
              "F     13\n",
              "G      4\n",
              "T      1\n",
              "Name: Deck, dtype: int64"
            ]
          },
          "metadata": {
            "tags": []
          },
          "execution_count": 1127
        }
      ]
    },
    {
      "cell_type": "code",
      "metadata": {
        "colab": {
          "base_uri": "https://localhost:8080/",
          "height": 592
        },
        "id": "JhTjcI2UqARP",
        "outputId": "195bb4be-390f-47db-a4da-f04076d29889"
      },
      "source": [
        "plt.figure(figsize=(14,10))\n",
        "sns.countplot(x='Deck', hue='Survived', data=train_data)\n",
        "plt.xlabel('')\n",
        "plt.ylabel('Количество людей')\n",
        "plt.show()"
      ],
      "execution_count": null,
      "outputs": [
        {
          "output_type": "display_data",
          "data": {
            "image/png": "[encoded data removed]",
            "text/plain": [
              "<Figure size 1008x720 with 1 Axes>"
            ]
          },
          "metadata": {
            "tags": [],
            "needs_background": "light"
          }
        }
      ]
    },
    {
      "cell_type": "code",
      "metadata": {
        "id": "yQ_c1ylVrpu7"
      },
      "source": [
        "train_data.replace(['A', 'B', 'C', 'D', 'E', 'F', 'G', 'T'], [1,2,3,4,5,6,7,8], inplace=True)"
      ],
      "execution_count": null,
      "outputs": []
    },
    {
      "cell_type": "code",
      "metadata": {
        "id": "QLv6YuqXvFRo",
        "colab": {
          "base_uri": "https://localhost:8080/",
          "height": 592
        },
        "outputId": "3d0d5d48-962b-4135-df02-392863b2667a"
      },
      "source": [
        "plt.figure(figsize=(14,10))\n",
        "sns.countplot(x='Deck', hue='Survived', data=train_data)\n",
        "plt.xlabel('')\n",
        "plt.ylabel('Количество людей')\n",
        "plt.show()"
      ],
      "execution_count": null,
      "outputs": [
        {
          "output_type": "display_data",
          "data": {
            "image/png": "[encoded data removed]",
            "text/plain": [
              "<Figure size 1008x720 with 1 Axes>"
            ]
          },
          "metadata": {
            "tags": [],
            "needs_background": "light"
          }
        }
      ]
    },
    {
      "cell_type": "code",
      "metadata": {
        "id": "xg1uJHjRtI52"
      },
      "source": [
        "train_data.CabinNumber = train_data.CabinNumber.str[0:3]"
      ],
      "execution_count": null,
      "outputs": []
    },
    {
      "cell_type": "code",
      "metadata": {
        "colab": {
          "base_uri": "https://localhost:8080/"
        },
        "id": "EZmG3Kg14NuX",
        "outputId": "de6b1164-56eb-4ef0-9d83-42f933866b27"
      },
      "source": [
        "train_data.CabinNumber.describe()"
      ],
      "execution_count": null,
      "outputs": [
        {
          "output_type": "execute_result",
          "data": {
            "text/plain": [
              "count     891\n",
              "unique    102\n",
              "top         0\n",
              "freq      687\n",
              "Name: CabinNumber, dtype: object"
            ]
          },
          "metadata": {
            "tags": []
          },
          "execution_count": 1132
        }
      ]
    },
    {
      "cell_type": "code",
      "metadata": {
        "colab": {
          "base_uri": "https://localhost:8080/",
          "height": 204
        },
        "id": "gE8F5Uu74AtF",
        "outputId": "694e1cf1-606c-4260-d93d-b1af6381fdfb"
      },
      "source": [
        "train_data.head()"
      ],
      "execution_count": null,
      "outputs": [
        {
          "output_type": "execute_result",
          "data": {
            "text/html": [
              "<div>\n",
              "<style scoped>\n",
              "    .dataframe tbody tr th:only-of-type {\n",
              "        vertical-align: middle;\n",
              "    }\n",
              "\n",
              "    .dataframe tbody tr th {\n",
              "        vertical-align: top;\n",
              "    }\n",
              "\n",
              "    .dataframe thead th {\n",
              "        text-align: right;\n",
              "    }\n",
              "</style>\n",
              "<table border=\"1\" class=\"dataframe\">\n",
              "  <thead>\n",
              "    <tr style=\"text-align: right;\">\n",
              "      <th></th>\n",
              "      <th>PassengerId</th>\n",
              "      <th>Survived</th>\n",
              "      <th>Pclass</th>\n",
              "      <th>Sex</th>\n",
              "      <th>Age</th>\n",
              "      <th>Fare</th>\n",
              "      <th>Embarked</th>\n",
              "      <th>Family</th>\n",
              "      <th>Deck</th>\n",
              "      <th>CabinNumber</th>\n",
              "    </tr>\n",
              "  </thead>\n",
              "  <tbody>\n",
              "    <tr>\n",
              "      <th>0</th>\n",
              "      <td>1</td>\n",
              "      <td>0</td>\n",
              "      <td>3</td>\n",
              "      <td>0</td>\n",
              "      <td>22.0</td>\n",
              "      <td>7.2500</td>\n",
              "      <td>0</td>\n",
              "      <td>1</td>\n",
              "      <td>0</td>\n",
              "      <td>0</td>\n",
              "    </tr>\n",
              "    <tr>\n",
              "      <th>1</th>\n",
              "      <td>2</td>\n",
              "      <td>1</td>\n",
              "      <td>1</td>\n",
              "      <td>1</td>\n",
              "      <td>38.0</td>\n",
              "      <td>71.2833</td>\n",
              "      <td>1</td>\n",
              "      <td>1</td>\n",
              "      <td>3</td>\n",
              "      <td>85</td>\n",
              "    </tr>\n",
              "    <tr>\n",
              "      <th>2</th>\n",
              "      <td>3</td>\n",
              "      <td>1</td>\n",
              "      <td>3</td>\n",
              "      <td>1</td>\n",
              "      <td>26.0</td>\n",
              "      <td>7.9250</td>\n",
              "      <td>0</td>\n",
              "      <td>0</td>\n",
              "      <td>0</td>\n",
              "      <td>0</td>\n",
              "    </tr>\n",
              "    <tr>\n",
              "      <th>3</th>\n",
              "      <td>4</td>\n",
              "      <td>1</td>\n",
              "      <td>1</td>\n",
              "      <td>1</td>\n",
              "      <td>35.0</td>\n",
              "      <td>53.1000</td>\n",
              "      <td>0</td>\n",
              "      <td>1</td>\n",
              "      <td>3</td>\n",
              "      <td>123</td>\n",
              "    </tr>\n",
              "    <tr>\n",
              "      <th>4</th>\n",
              "      <td>5</td>\n",
              "      <td>0</td>\n",
              "      <td>3</td>\n",
              "      <td>0</td>\n",
              "      <td>35.0</td>\n",
              "      <td>8.0500</td>\n",
              "      <td>0</td>\n",
              "      <td>0</td>\n",
              "      <td>0</td>\n",
              "      <td>0</td>\n",
              "    </tr>\n",
              "  </tbody>\n",
              "</table>\n",
              "</div>"
            ],
            "text/plain": [
              "   PassengerId  Survived  Pclass  Sex  ...  Embarked  Family  Deck  CabinNumber\n",
              "0            1         0       3    0  ...         0       1     0            0\n",
              "1            2         1       1    1  ...         1       1     3           85\n",
              "2            3         1       3    1  ...         0       0     0            0\n",
              "3            4         1       1    1  ...         0       1     3          123\n",
              "4            5         0       3    0  ...         0       0     0            0\n",
              "\n",
              "[5 rows x 10 columns]"
            ]
          },
          "metadata": {
            "tags": []
          },
          "execution_count": 1133
        }
      ]
    },
    {
      "cell_type": "code",
      "metadata": {
        "id": "RUoTN_lT849a"
      },
      "source": [
        "train_data.loc[train_data.CabinNumber == ' G7', \"CabinNumber\"] = \"7\"\n",
        "train_data.loc[train_data.CabinNumber == ' E6', \"CabinNumber\"] = \"6\"\n",
        "train_data.loc[train_data.CabinNumber == ' G6', \"CabinNumber\"] = \"6\""
      ],
      "execution_count": null,
      "outputs": []
    },
    {
      "cell_type": "code",
      "metadata": {
        "colab": {
          "base_uri": "https://localhost:8080/"
        },
        "id": "OuuwoP2eg7CA",
        "outputId": "3bbd2c1e-8ea5-4935-e833-eebf6d6fcab1"
      },
      "source": [
        "train_data.isna().sum()"
      ],
      "execution_count": null,
      "outputs": [
        {
          "output_type": "execute_result",
          "data": {
            "text/plain": [
              "PassengerId    0\n",
              "Survived       0\n",
              "Pclass         0\n",
              "Sex            0\n",
              "Age            0\n",
              "Fare           0\n",
              "Embarked       0\n",
              "Family         0\n",
              "Deck           0\n",
              "CabinNumber    0\n",
              "dtype: int64"
            ]
          },
          "metadata": {
            "tags": []
          },
          "execution_count": 1135
        }
      ]
    },
    {
      "cell_type": "code",
      "metadata": {
        "id": "lzcYi-ugtciR"
      },
      "source": [
        "train_data.CabinNumber = pd.to_numeric(train_data.CabinNumber)"
      ],
      "execution_count": null,
      "outputs": []
    },
    {
      "cell_type": "code",
      "metadata": {
        "id": "od6HCmM4iZLg"
      },
      "source": [
        "train_data.dropna(inplace=True)"
      ],
      "execution_count": null,
      "outputs": []
    },
    {
      "cell_type": "code",
      "metadata": {
        "id": "IKON0YeH-1lL"
      },
      "source": [
        "train_data['Is_Alone'] = train_data.Family == 0"
      ],
      "execution_count": null,
      "outputs": []
    },
    {
      "cell_type": "code",
      "metadata": {
        "colab": {
          "base_uri": "https://localhost:8080/",
          "height": 613
        },
        "id": "Dl6BP1619MDF",
        "outputId": "344debf9-fef6-4a8e-8eab-dc38598252a3"
      },
      "source": [
        "plt.figure(figsize=(14,10))\n",
        "sns.heatmap(data=train_data.corr(), annot=True)"
      ],
      "execution_count": null,
      "outputs": [
        {
          "output_type": "execute_result",
          "data": {
            "text/plain": [
              "<matplotlib.axes._subplots.AxesSubplot at 0x7f4d521fed90>"
            ]
          },
          "metadata": {
            "tags": []
          },
          "execution_count": 1139
        },
        {
          "output_type": "display_data",
          "data": {
            "image/png": "[encoded data removed]",
            "text/plain": [
              "<Figure size 1008x720 with 2 Axes>"
            ]
          },
          "metadata": {
            "tags": [],
            "needs_background": "light"
          }
        }
      ]
    },
    {
      "cell_type": "markdown",
      "metadata": {
        "id": "qP4zvozs_yOu"
      },
      "source": [
        "# Предсказание\n"
      ]
    },
    {
      "cell_type": "code",
      "metadata": {
        "id": "Es-hYapL_7uI"
      },
      "source": [
        "y = train_data['Survived']\n",
        "x = train_data.drop(['Survived', 'PassengerId',\"CabinNumber\"], axis=1)\n",
        "sc = StandardScaler()\n",
        "x = sc.fit_transform(x)"
      ],
      "execution_count": null,
      "outputs": []
    },
    {
      "cell_type": "code",
      "metadata": {
        "id": "WCbvZ4KnC3Jc"
      },
      "source": [
        "x_train, x_test, y_train, y_test = train_test_split(x, y, test_size=0.2, stratify = y, random_state=0)"
      ],
      "execution_count": null,
      "outputs": []
    },
    {
      "cell_type": "code",
      "metadata": {
        "id": "eL5SQb25D0w2"
      },
      "source": [
        "model = LogisticRegression()\n",
        "model.fit(x_train, y_train)\n",
        "logit_predict = model.predict(x_test)"
      ],
      "execution_count": null,
      "outputs": []
    },
    {
      "cell_type": "code",
      "metadata": {
        "colab": {
          "base_uri": "https://localhost:8080/"
        },
        "id": "fstK_X4woGdG",
        "outputId": "fe1a3cea-c8fd-4e7c-b435-c3e2d74bbd28"
      },
      "source": [
        "model.coef_"
      ],
      "execution_count": null,
      "outputs": [
        {
          "output_type": "execute_result",
          "data": {
            "text/plain": [
              "array([[-0.8006539 ,  1.27924022, -0.55895976,  0.06146486,  0.0589774 ,\n",
              "        -0.58566239,  0.2431203 , -0.23454026]])"
            ]
          },
          "metadata": {
            "tags": []
          },
          "execution_count": 1171
        }
      ]
    },
    {
      "cell_type": "code",
      "metadata": {
        "id": "ygfjnI93oMMH"
      },
      "source": [
        "def metrics(y_test, predictions):\n",
        "    \"\"\"Функция выводит метрики качества предсказаний\n",
        "\n",
        "    Аргументы:\n",
        "    y_test -- истинные значения personal load\n",
        "    predictions -- предсказанные моделью значения\n",
        "    \"\"\"\n",
        "    print('Accuracy: {:.2f}'.format(accuracy_score(y_test, predictions)))\n",
        "    print('Precision: {:.2f}'.format(precision_score(y_test, predictions)))\n",
        "    print('Recall: {:.2f}'.format(recall_score(y_test, predictions)))\n",
        "    print('F1: {:.2f}'.format(f1_score(y_test, predictions)))\n",
        "    print('R^2: {:.2f}'.format(r2_score(y_test, predictions)))\n",
        "    print('Дисперсия a = {0:.3f}, Дисперсия b = {1:.3f}'.format(np.var(y_test, ddof=1),\n",
        "                                                                np.var(predictions, ddof=1)))\n",
        "    print('F-табл: {:.2f}'.format(f.ppf(0.05, 10, 9)))\n",
        "    print('F-факт: {:.2f}'.format(stats.f_oneway(y_test, predictions)[0]))\n",
        "    #print(abs(np.mean(y_test) - np.mean(predictions)) / (np.var(y_test) + np.var(predictions)))"
      ],
      "execution_count": null,
      "outputs": []
    },
    {
      "cell_type": "code",
      "metadata": {
        "id": "n23skeDupWkX"
      },
      "source": [
        "def roc(y_test, predict, probabilities, type):\n",
        "    global roc_auc\n",
        "    roc_auc = roc_auc_score(y_test, predict)\n",
        "    fpr, tpr, thresholds = roc_curve(y_test, probabilities)\n",
        "    plt.figure()\n",
        "    plt.plot(fpr, tpr, label='{} Regression (area = {:0.2f})'.format(type,roc_auc))\n",
        "    plt.plot([0, 1], [0, 1],'r--')\n",
        "    plt.xlim([0.0, 1.0])\n",
        "    plt.ylim([0.0, 1.01])\n",
        "    plt.xlabel('False Positive Rate')\n",
        "    plt.ylabel('True Positive Rate')\n",
        "    plt.title('Кривая ошибок(ROC)')\n",
        "    plt.legend(loc=\"lower right\")\n",
        "    plt.show()"
      ],
      "execution_count": null,
      "outputs": []
    },
    {
      "cell_type": "code",
      "metadata": {
        "colab": {
          "base_uri": "https://localhost:8080/"
        },
        "id": "C5MyMeL9oX-5",
        "outputId": "686adbdb-8ea8-490f-a4df-83d0764611ad"
      },
      "source": [
        "metrics(y_test, logit_predict)"
      ],
      "execution_count": null,
      "outputs": [
        {
          "output_type": "stream",
          "text": [
            "Accuracy: 0.81\n",
            "Precision: 0.78\n",
            "Recall: 0.69\n",
            "F1: 0.73\n",
            "R^2: 0.19\n",
            "Дисперсия a = 0.237, Дисперсия b = 0.225\n",
            "F-табл: 0.33\n",
            "F-факт: 0.78\n"
          ],
          "name": "stdout"
        }
      ]
    },
    {
      "cell_type": "code",
      "metadata": {
        "colab": {
          "base_uri": "https://localhost:8080/",
          "height": 295
        },
        "id": "3JDG7WtJpcQt",
        "outputId": "00d5e28e-bae5-4d43-eb0e-e991d67f73ba"
      },
      "source": [
        "roc(y_test, logit_predict, model.predict_proba(x_test)[:,1], \"Logit\")"
      ],
      "execution_count": null,
      "outputs": [
        {
          "output_type": "display_data",
          "data": {
            "image/png": "[encoded data removed]",
            "text/plain": [
              "<Figure size 432x288 with 1 Axes>"
            ]
          },
          "metadata": {
            "tags": [],
            "needs_background": "light"
          }
        }
      ]
    },
    {
      "cell_type": "code",
      "metadata": {
        "colab": {
          "base_uri": "https://localhost:8080/"
        },
        "id": "AAUJWKXop7ED",
        "outputId": "30262a0e-d36b-45f3-f260-eb7e4c1063eb"
      },
      "source": [
        "x_train = sm.add_constant(x_train)\n",
        "model = Probit(y_train, x_train.astype(float))\n",
        "probit_model = model.fit()\n",
        "print(probit_model.summary2())"
      ],
      "execution_count": null,
      "outputs": [
        {
          "output_type": "stream",
          "text": [
            "Optimization terminated successfully.\n",
            "         Current function value: 0.438069\n",
            "         Iterations 6\n",
            "                         Results: Probit\n",
            "=================================================================\n",
            "Model:              Probit           Pseudo R-squared: 0.342     \n",
            "Dependent Variable: Survived         AIC:              641.1816  \n",
            "Date:               2021-05-17 14:10 BIC:              686.8201  \n",
            "No. Observations:   709              Log-Likelihood:   -310.59   \n",
            "Df Model:           9                LL-Null:          -472.06   \n",
            "Df Residuals:       699              LLR p-value:      3.5074e-64\n",
            "Converged:          1.0000           Scale:            1.0000    \n",
            "No. Iterations:     6.0000                                       \n",
            "-------------------------------------------------------------------\n",
            "           Coef.    Std.Err.      z      P>|z|     [0.025    0.975]\n",
            "-------------------------------------------------------------------\n",
            "const     -0.3718     0.0576   -6.4506   0.0000   -0.4847   -0.2588\n",
            "x1        -0.4694     0.0898   -5.2304   0.0000   -0.6454   -0.2935\n",
            "x2         0.7643     0.0609   12.5601   0.0000    0.6451    0.8836\n",
            "x3        -0.3121     0.0689   -4.5315   0.0000   -0.4471   -0.1771\n",
            "x4         0.0486     0.0783    0.6204   0.5350   -0.1049    0.2021\n",
            "x5         0.0357     0.0588    0.6070   0.5439   -0.0796    0.1509\n",
            "x6        -0.3572     0.1010   -3.5377   0.0004   -0.5551   -0.1593\n",
            "x7         0.1510     0.0764    1.9760   0.0482    0.0012    0.3008\n",
            "x8        -0.0393     0.0796   -0.4934   0.6218   -0.1954    0.1168\n",
            "x9        -0.1381     0.0876   -1.5767   0.1149   -0.3098    0.0336\n",
            "=================================================================\n",
            "\n"
          ],
          "name": "stdout"
        }
      ]
    }
  ]
}